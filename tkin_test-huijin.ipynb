{
 "cells": [
  {
   "cell_type": "markdown",
   "metadata": {},
   "source": []
  },
  {
   "cell_type": "code",
   "execution_count": 18,
   "metadata": {},
   "outputs": [],
   "source": [
    "import tkinter as tk\n",
    "root=tk.Tk()\n",
    "root.title('트렁크 디스플레이')\n",
    "root.geometry(\"600x500+100+100\")\n",
    "lab11=tk.Label(root, text=\"CO농도:\",width=8,height=1,font=('맑은 고딕',15,'bold'))\n",
    "lab11.grid(row=0, column=0,padx=5, pady=10)\n",
    "#ent12=tk.Entry(font=('맑은 고딕',16,'bold'),bg='white',width=8)\n",
    "#ent12.grid(row=0,column=1,padx=5,pady=10)\n",
    "\n",
    "#co농도 받아온 변수 entco로 가정\n",
    "#entco=80.\n",
    "\n",
    "entco=80\n",
    "\n",
    "\n",
    "\n",
    "entco=tk.DoubleVar(root,entco)\n",
    "#entco.set(80)\n",
    "lab12=tk.Label(root, textvariable=entco, width=8,height=1,font=('맑은 고딕',15,'bold'),bg='#2F5597',fg='white')\n",
    "lab12.grid(row=0, column=1,padx=5, pady=10)\n",
    "\n",
    "\n",
    "#double_variable = tk.DoubleVar(root,55.2)\n",
    " \n",
    "#lab12 = tk.Label(root, textvariable=double_variable, width=8,height=1)\n",
    "#lab12.grid(row=0, column=1,padx=5, pady=10)\n",
    "\n",
    "lab13=tk.Label(root, text=\"ppm\",width=8,height=1,font=('맑은 고딕',15,'bold'))\n",
    "lab13.grid(row=0, column=3,padx=5, pady=10)\n",
    "\n",
    "a=tk.DoubleVar(root,80)\n",
    "b=tk.DoubleVar(root,150)\n",
    "c=tk.DoubleVar(root,200)\n",
    "\n",
    "if entco.get()<a.get():\n",
    "    lab14=tk.Label(root, text=\" \", width=2,height=1,font=('맑은 고딕',15,'bold'),bg='#228B22',fg='white')\n",
    "    lab14.grid(row=0, column=4,padx=5, pady=10)\n",
    "    \n",
    "elif entco.get()<b.get() and entco.get()>=a.get():\n",
    "    lab14=tk.Label(root, text=\" \", width=2,height=1,font=('맑은 고딕',15,'bold'),bg='#FFFF00',fg='white')\n",
    "    lab14.grid(row=0, column=4,padx=5, pady=10)\n",
    "    \n",
    "\n",
    "elif entco.get()<c.get() and entco.get()>=b.get():\n",
    "    lab14=tk.Label(root, text=\" \", width=2,height=1,font=('맑은 고딕',15,'bold'),bg='#FF8C00',fg='white')\n",
    "    lab14.grid(row=0, column=4,padx=5, pady=10)\n",
    "\n",
    "else:\n",
    "    lab14=tk.Label(root, text=\" \", width=2,height=1,font=('맑은 고딕',15,'bold'),bg='#FF0000',fg='white')\n",
    "    lab14.grid(row=0, column=4,padx=5, pady=10)\n",
    "\n",
    "\n",
    "\n",
    "\n",
    "\n",
    "\n",
    "\n",
    "\n",
    "\n",
    "\n",
    "\n",
    "\n",
    "\n",
    "root.mainloop()"
   ]
  },
  {
   "cell_type": "code",
   "execution_count": 8,
   "metadata": {},
   "outputs": [
    {
     "name": "stdout",
     "output_type": "stream",
     "text": [
      "True\n",
      "False\n",
      "False\n"
     ]
    }
   ],
   "source": [
    "import tkinter as tk\n",
    "root=tk.Tk()\n",
    "meh = 10.2\n",
    "print(isinstance(meh,float))\n",
    "mah = tk.DoubleVar(root, meh)\n",
    "print(isinstance(mah, float))\n",
    "a = mah.get()\n",
    "print(isinstance(mah, float))"
   ]
  }
 ],
 "metadata": {
  "kernelspec": {
   "display_name": "Python 3.9.12 ('base')",
   "language": "python",
   "name": "python3"
  },
  "language_info": {
   "codemirror_mode": {
    "name": "ipython",
    "version": 3
   },
   "file_extension": ".py",
   "mimetype": "text/x-python",
   "name": "python",
   "nbconvert_exporter": "python",
   "pygments_lexer": "ipython3",
   "version": "3.9.12"
  },
  "orig_nbformat": 4,
  "vscode": {
   "interpreter": {
    "hash": "a3040d2ea7c28016ddf2a61be05e3aedf3d85f52b98eeb3c10d7a0c86abfb247"
   }
  }
 },
 "nbformat": 4,
 "nbformat_minor": 2
}
